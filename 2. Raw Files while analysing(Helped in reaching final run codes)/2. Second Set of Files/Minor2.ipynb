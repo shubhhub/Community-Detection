{
 "cells": [
  {
   "cell_type": "code",
   "execution_count": 1,
   "id": "988db5b2",
   "metadata": {},
   "outputs": [
    {
     "name": "stdout",
     "output_type": "stream",
     "text": [
      "Libraries successfully imported\n"
     ]
    }
   ],
   "source": [
    "#import all the necessary libraries\n",
    "import networkx as nx\n",
    "import numpy as np\n",
    "import pandas as pd\n",
    "import networkx.algorithms.community as nx_comm\n",
    "import math\n",
    "import matplotlib.pyplot as plt\n",
    "import random\n",
    "print(\"Libraries successfully imported\")"
   ]
  },
  {
   "cell_type": "code",
   "execution_count": 77,
   "id": "585c2e38",
   "metadata": {},
   "outputs": [
    {
     "name": "stdout",
     "output_type": "stream",
     "text": [
      "[0.942, 0.957, 0.909, 0.961, 0.942, 0.951, 0.952, 0.72, 0.942, 0.957, 0.909, 0.961, 0.942, 0.951, 0.952, 0.72]\n",
      "[0.998, 0.9987, 0.988, 0.996, 0.997, 0.991, 0.994, 0.693, 0.998, 0.9987, 0.988, 0.996, 0.997, 0.991, 0.994, 0.693]\n",
      "[0.869, 0.8686, 0.852, 0.863, 0.884, 0.906, 0.866, 0.815, 0.869, 0.8686, 0.852, 0.863, 0.884, 0.906, 0.866, 0.815]\n",
      "[0.999, 0.9965, 0.995, 0.994, 0.994, 0.997, 0.998, 0.822, 0.999, 0.9965, 0.995, 0.994, 0.994, 0.997, 0.998, 0.822]\n",
      "[0.8608, 0.8684, 0.742, 0.844, 0.8883, 0.851, 0.843, 0.7055, 0.8608, 0.8684, 0.742, 0.844, 0.8883, 0.851, 0.843, 0.7055]\n"
     ]
    }
   ],
   "source": [
    "file = open ('MeanNMI.txt', 'r')\n",
    "content = file.readlines()\n",
    "\n",
    "size = len(content)\n",
    "datasets = []\n",
    "GE = []\n",
    "DE = []\n",
    "PSO = []\n",
    "GWO = []\n",
    "WOA = []\n",
    "for i in range(0,size,3):\n",
    "    datasets.append(content[i])\n",
    "    \n",
    "for i in range(len(datasets)):\n",
    "    datasets[i] = datasets[i][:-1]\n",
    "\n",
    "    \n",
    "# print(content[2][7:12])\n",
    "for i in range(2,size,3):\n",
    "    GE.append(float(content[i][0:5]))\n",
    "    DE.append(float(content[i][7:12]))\n",
    "    PSO.append(float(content[i][14:19]))\n",
    "    GWO.append(float(content[i][21:26]))\n",
    "    WOA.append(float(content[i][27:33]))\n",
    "        \n",
    "print(GE)\n",
    "print(DE)\n",
    "print(PSO)\n",
    "print(GWO)\n",
    "print(WOA)\n",
    "\n",
    "\n",
    "    \n",
    "\n",
    "    "
   ]
  },
  {
   "cell_type": "code",
   "execution_count": 78,
   "id": "c5f4d0cd",
   "metadata": {},
   "outputs": [
    {
     "name": "stdout",
     "output_type": "stream",
     "text": [
      "Table ready\n",
      "                                                        MEAN NMI                                    \n",
      "\n",
      "            Datasets                  GE                  DE                 PSO                 GWO                 WOA\n",
      "            Dolphins               0.942               0.998               0.869               0.999              0.8608\n",
      "              Elegal               0.957              0.9987              0.8686              0.9965              0.8684\n",
      "              Karate               0.909               0.988               0.852               0.995               0.742\n",
      "            Polbooks               0.961               0.996               0.863               0.994               0.844\n",
      "            Football               0.942               0.997               0.884               0.994              0.8883\n",
      "             Sawmill               0.951               0.991               0.906               0.997               0.851\n",
      "             Les-Mis               0.952               0.994               0.866               0.998               0.843\n",
      "               Votes                0.72               0.693               0.815               0.822              0.7055\n"
     ]
    }
   ],
   "source": [
    "#result table\n",
    "table = [['Datasets', 'GE', 'DE', 'PSO', 'GWO','WOA'],\n",
    "        ['', 0, 0, 0, 0, 0],\n",
    "        ['', 0, 0, 0, 0, 0],\n",
    "        ['', 0, 0, 0, 0, 0],\n",
    "        ['', 0, 0, 0, 0, 0],\n",
    "        ['', 0, 0, 0, 0, 0],\n",
    "        ['', 0, 0, 0, 0, 0],\n",
    "        ['', 0, 0, 0, 0, 0],\n",
    "        ['', 0, 0, 0, 0, 0],]\n",
    "print(\"Table ready\")\n",
    "\n",
    "# print(table)\n",
    "for i in range(1,len(table)):\n",
    "    table[i][0] = datasets[i-1]\n",
    "    table[i][1]+= GE[i-1]\n",
    "    table[i][2]+= DE[i-1]    \n",
    "    table[i][3]+= PSO[i-1]    \n",
    "    table[i][4]+= GWO[i-1]\n",
    "    table[i][5]+= WOA[i-1]\n",
    "    \n",
    "print(\"                                                        MEAN NMI                                    \" + \"\\n\")\n",
    "#show table\n",
    "format_row = \"{:>20}\" * (len(table[0]))\n",
    "for row in table:\n",
    "    print(format_row.format(*row))\n",
    "\n"
   ]
  },
  {
   "cell_type": "code",
   "execution_count": 79,
   "id": "d2623980",
   "metadata": {},
   "outputs": [
    {
     "name": "stdout",
     "output_type": "stream",
     "text": [
      "[0.327, 0.151, 0.291, 0.322, 0.276, 0.362, 0.378, 0.0]\n",
      "[0.322, 0.168, 0.279, 0.26, 0.257, 0.351, 0.282, 0.0]\n",
      "[0.351, 0.159, 0.29, 0.312, 0.271, 0.378, 0.333, 0.0]\n",
      "[0.32, 0.174, 0.241, 0.261, 0.272, 0.362, 0.3421, 0.0]\n",
      "[0.316, 0.148, 0.225, 0.337, 0.264, 0.285, 0.3149, 0.0]\n"
     ]
    }
   ],
   "source": [
    "file = open ('MeanMod.txt', 'r')\n",
    "content = file.readlines()\n",
    "\n",
    "size = len(content)\n",
    "datasets = []\n",
    "GE = []\n",
    "DE = []\n",
    "PSO = []\n",
    "GWO = []\n",
    "WOA = []\n",
    "for i in range(0,size,3):\n",
    "    datasets.append(content[i])\n",
    "    \n",
    "for i in range(len(datasets)):\n",
    "    datasets[i] = datasets[i][:-1]\n",
    "\n",
    "    \n",
    "# print(content[2][7:12])\n",
    "for i in range(2,size,3):\n",
    "    GE.append(float(content[i][0:5]))\n",
    "    DE.append(float(content[i][7:12]))\n",
    "    PSO.append(float(content[i][14:19]))\n",
    "    GWO.append(float(content[i][21:26]))\n",
    "    WOA.append(float(content[i][27:33]))\n",
    "        \n",
    "print(GE)\n",
    "print(DE)\n",
    "print(PSO)\n",
    "print(GWO)\n",
    "print(WOA)\n",
    "\n",
    "\n",
    "    \n"
   ]
  },
  {
   "cell_type": "code",
   "execution_count": 80,
   "id": "a5f951d1",
   "metadata": {},
   "outputs": [
    {
     "name": "stdout",
     "output_type": "stream",
     "text": [
      "Table ready\n",
      "                                                        MEAN Modularity                                    \n",
      "\n",
      "            Datasets                  GE                  DE                 PSO                 GWO                 WOA\n",
      "            Dolphins               0.327               0.322               0.351                0.32               0.316\n",
      "              Elegal               0.151               0.168               0.159               0.174               0.148\n",
      "              Karate               0.291               0.279                0.29               0.241               0.225\n",
      "            Polbooks               0.322                0.26               0.312               0.261               0.337\n",
      "            Football               0.276               0.257               0.271               0.272               0.264\n",
      "             Sawmill               0.362               0.351               0.378               0.362               0.285\n",
      "             Les-Mis               0.378               0.282               0.333              0.3421              0.3149\n",
      "               Votes                 0.0                 0.0                 0.0                 0.0                 0.0\n"
     ]
    }
   ],
   "source": [
    "#result table\n",
    "table2 = [['Datasets', 'GE', 'DE', 'PSO', 'GWO','WOA'],\n",
    "        ['', 0, 0, 0, 0, 0],\n",
    "        ['', 0, 0, 0, 0, 0],\n",
    "        ['', 0, 0, 0, 0, 0],\n",
    "        ['', 0, 0, 0, 0, 0],\n",
    "        ['', 0, 0, 0, 0, 0],\n",
    "        ['', 0, 0, 0, 0, 0],\n",
    "        ['', 0, 0, 0, 0, 0],\n",
    "        ['', 0, 0, 0, 0, 0],]\n",
    "print(\"Table ready\")\n",
    "\n",
    "# print(table)\n",
    "for i in range(1,len(table2)):\n",
    "    table2[i][0] = datasets[i-1]\n",
    "    table2[i][1]+= GE[i-1]\n",
    "    table2[i][2]+= DE[i-1]    \n",
    "    table2[i][3]+= PSO[i-1]    \n",
    "    table2[i][4]+= GWO[i-1]\n",
    "    table2[i][5]+= WOA[i-1]\n",
    "    \n",
    "print(\"                                                        MEAN Modularity                                    \" + \"\\n\")\n",
    "#show table\n",
    "format_row = \"{:>20}\" * (len(table2[0]))\n",
    "for row in table2:\n",
    "    print(format_row.format(*row))\n",
    "\n"
   ]
  },
  {
   "cell_type": "code",
   "execution_count": 88,
   "id": "dd1d29f9",
   "metadata": {},
   "outputs": [
    {
     "name": "stdout",
     "output_type": "stream",
     "text": [
      "                  Best in Datasets(NMI)                                  \n",
      "\n",
      "            Datasets                Algo\n",
      "            Dolphins                 GWO\n",
      "              Elegal                  DE\n",
      "              Karate                 GWO\n",
      "            Polbooks                  DE\n",
      "            Football                  DE\n",
      "             Sawmill                 GWO\n",
      "             Les-Mis                 GWO\n",
      "               Votes                 GWO\n"
     ]
    }
   ],
   "source": [
    "print(\"                  Best in Datasets(NMI)                                  \" + \"\\n\")\n",
    "\n",
    "bestTableNMI = [['Datasets', 'Algo'],\n",
    "        ['', ''],\n",
    "        ['', ''],\n",
    "        ['', ''],\n",
    "        ['', ''],\n",
    "        ['', ''],\n",
    "        ['', ''],\n",
    "        ['', ''],\n",
    "        ['', ''],]\n",
    "# print(table[0][np.argmax(table[1][1:])+1] )\n",
    "for i in range(1,len(bestTable)):\n",
    "    bestTable[i][0] = datasets[i-1]\n",
    "    bestTable[i][1] = table[0][np.argmax(table[i][1:])+1]    \n",
    "    \n",
    "# print(table[1][1:])\n",
    "format_row = \"{:>20}\" * (len(bestTable[0]))\n",
    "for row in bestTable:\n",
    "    print(format_row.format(*row))\n"
   ]
  },
  {
   "cell_type": "code",
   "execution_count": 90,
   "id": "72011857",
   "metadata": {},
   "outputs": [
    {
     "name": "stdout",
     "output_type": "stream",
     "text": [
      "                  Best in Datasets(Modularity)                                  \n",
      "\n",
      "            Datasets                Algo\n",
      "            Dolphins                 PSO\n",
      "              Elegal                 GWO\n",
      "              Karate                  GE\n",
      "            Polbooks                 WOA\n",
      "            Football                  GE\n",
      "             Sawmill                 PSO\n",
      "             Les-Mis                  GE\n",
      "               Votes                  GE\n"
     ]
    }
   ],
   "source": [
    "print(\"                  Best in Datasets(Modularity)                                  \" + \"\\n\")\n",
    "\n",
    "bestTableNMI = [['Datasets', 'Algo'],\n",
    "        ['', ''],\n",
    "        ['', ''],\n",
    "        ['', ''],\n",
    "        ['', ''],\n",
    "        ['', ''],\n",
    "        ['', ''],\n",
    "        ['', ''],\n",
    "        ['', ''],]\n",
    "# print(table[0][np.argmax(table[1][1:])+1] )\n",
    "for i in range(1,len(bestTable)):\n",
    "    bestTable[i][0] = datasets[i-1]\n",
    "    bestTable[i][1] = table2[0][np.argmax(table2[i][1:])+1]    \n",
    "    \n",
    "# print(table[1][1:])\n",
    "format_row = \"{:>20}\" * (len(bestTable[0]))\n",
    "for row in bestTable:\n",
    "    print(format_row.format(*row))\n"
   ]
  },
  {
   "cell_type": "code",
   "execution_count": 133,
   "id": "b8df576b",
   "metadata": {},
   "outputs": [
    {
     "name": "stdout",
     "output_type": "stream",
     "text": [
      "                       Ranking    NMI                              \n",
      "\n",
      "             Ranking                Algo\n",
      "                   1                 GWO\n",
      "                   2                  DE\n",
      "                   3                  GE\n",
      "                   4                 PSO\n",
      "                   5                 WOA\n"
     ]
    },
    {
     "name": "stderr",
     "output_type": "stream",
     "text": [
      "C:\\Users\\samar\\AppData\\Local\\Temp/ipykernel_11532/957283992.py:12: DeprecationWarning: `np.float` is a deprecated alias for the builtin `float`. To silence this warning, use `float` by itself. Doing this will not modify any behavior and is safe. If you specifically wanted the numpy scalar type, use `np.float64` here.\n",
      "Deprecated in NumPy 1.20; for more details and guidance: https://numpy.org/devdocs/release/1.20.0-notes.html#deprecations\n",
      "  float_table = temp_table.astype(np.float)\n"
     ]
    }
   ],
   "source": [
    "print(\"                       Ranking    NMI                              \" + \"\\n\")\n",
    "\n",
    "bestTableNMI = [['Ranking', 'Algo'],\n",
    "        ['1', ''],\n",
    "        ['2', ''],\n",
    "        ['3', ''],\n",
    "        ['4', ''],\n",
    "        ['5', ''],]\n",
    "\n",
    "temp_table = table[:][1:]\n",
    "temp_table = np.delete(temp_table, 0, axis=1)\n",
    "float_table = temp_table.astype(np.float)\n",
    "float_table\n",
    "D_avg_NMI = np.mean(float_table, axis=0)\n",
    "\n",
    "\n",
    "bestTableNMI[1][1] = table[0][1+np.argmax(D_avg_NMI)]\n",
    "D_avg_NMI[np.argmax(D_avg_NMI)] = -1\n",
    "\n",
    "bestTableNMI[2][1] = table[0][1+np.argmax(D_avg_NMI)]\n",
    "D_avg_NMI[np.argmax(D_avg_NMI)] = -1\n",
    "\n",
    "\n",
    "bestTableNMI[3][1] = table[0][1+np.argmax(D_avg_NMI)]\n",
    "D_avg_NMI[np.argmax(D_avg_NMI)] = -1\n",
    "\n",
    "\n",
    "bestTableNMI[4][1] = table[0][1+np.argmax(D_avg_NMI)]\n",
    "D_avg_NMI[np.argmax(D_avg_NMI)] = -1\n",
    "\n",
    "\n",
    "bestTableNMI[5][1] = table[0][1+np.argmax(D_avg_NMI)]\n",
    "D_avg_NMI[np.argmax(D_avg_NMI)] = -1\n",
    "\n",
    "# print(table[1][1:])\n",
    "format_row = \"{:>20}\" * (len(bestTableNMI[0]))\n",
    "for row in bestTableNMI:\n",
    "    print(format_row.format(*row))\n",
    "\n",
    "\n",
    "    "
   ]
  },
  {
   "cell_type": "code",
   "execution_count": 134,
   "id": "e190c0c5",
   "metadata": {},
   "outputs": [
    {
     "name": "stdout",
     "output_type": "stream",
     "text": [
      "                       Ranking                                  \n",
      "\n",
      "             Ranking                Algo\n",
      "                   1                  GE\n",
      "                   2                 PSO\n",
      "                   3                 GWO\n",
      "                   4                  DE\n",
      "                   5                 WOA\n"
     ]
    },
    {
     "name": "stderr",
     "output_type": "stream",
     "text": [
      "C:\\Users\\samar\\AppData\\Local\\Temp/ipykernel_11532/2957038348.py:12: DeprecationWarning: `np.float` is a deprecated alias for the builtin `float`. To silence this warning, use `float` by itself. Doing this will not modify any behavior and is safe. If you specifically wanted the numpy scalar type, use `np.float64` here.\n",
      "Deprecated in NumPy 1.20; for more details and guidance: https://numpy.org/devdocs/release/1.20.0-notes.html#deprecations\n",
      "  float_table = temp_table.astype(np.float)\n"
     ]
    }
   ],
   "source": [
    "print(\"                       Ranking                                  \" + \"\\n\")\n",
    "\n",
    "bestTableMod = [['Ranking', 'Algo'],\n",
    "        ['1', ''],\n",
    "        ['2', ''],\n",
    "        ['3', ''],\n",
    "        ['4', ''],\n",
    "        ['5', ''],]\n",
    "\n",
    "temp_table = table2[:][1:]\n",
    "temp_table = np.delete(temp_table, 0, axis=1)\n",
    "float_table = temp_table.astype(np.float)\n",
    "float_table\n",
    "D_avg_Mod = np.mean(float_table, axis=0)\n",
    "\n",
    "\n",
    "bestTableMod[1][1] = table[0][1+np.argmax(D_avg_Mod)]\n",
    "D_avg_Mod[np.argmax(D_avg_Mod)] = -1\n",
    "\n",
    "bestTableMod[2][1] = table[0][1+np.argmax(D_avg_Mod)]\n",
    "D_avg_Mod[np.argmax(D_avg_Mod)] = -1\n",
    "\n",
    "\n",
    "bestTableMod[3][1] = table[0][1+np.argmax(D_avg_Mod)]\n",
    "D_avg_Mod[np.argmax(D_avg_Mod)] = -1\n",
    "\n",
    "\n",
    "bestTableMod[4][1] = table[0][1+np.argmax(D_avg_Mod)]\n",
    "D_avg_Mod[np.argmax(D_avg_Mod)] = -1\n",
    "\n",
    "\n",
    "bestTableMod[5][1] = table[0][1+np.argmax(D_avg_Mod)]\n",
    "D_avg_Mod[np.argmax(D_avg_Mod)] = -1\n",
    "\n",
    "# print(table[1][1:])\n",
    "format_row = \"{:>20}\" * (len(bestTableMod[0]))\n",
    "for row in bestTableMod:\n",
    "    print(format_row.format(*row))\n",
    "\n",
    "\n",
    "    "
   ]
  },
  {
   "cell_type": "code",
   "execution_count": null,
   "id": "9aec483b",
   "metadata": {},
   "outputs": [],
   "source": []
  }
 ],
 "metadata": {
  "kernelspec": {
   "display_name": "Python 3 (ipykernel)",
   "language": "python",
   "name": "python3"
  },
  "language_info": {
   "codemirror_mode": {
    "name": "ipython",
    "version": 3
   },
   "file_extension": ".py",
   "mimetype": "text/x-python",
   "name": "python",
   "nbconvert_exporter": "python",
   "pygments_lexer": "ipython3",
   "version": "3.9.7"
  }
 },
 "nbformat": 4,
 "nbformat_minor": 5
}
